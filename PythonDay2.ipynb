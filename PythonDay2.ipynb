{
  "nbformat": 4,
  "nbformat_minor": 0,
  "metadata": {
    "colab": {
      "provenance": [],
      "include_colab_link": true
    },
    "kernelspec": {
      "name": "python3",
      "display_name": "Python 3"
    },
    "language_info": {
      "name": "python"
    }
  },
  "cells": [
    {
      "cell_type": "markdown",
      "metadata": {
        "id": "view-in-github",
        "colab_type": "text"
      },
      "source": [
        "<a href=\"https://colab.research.google.com/github/Asiiifa/Data-science-python-/blob/main/PythonDay2.ipynb\" target=\"_parent\"><img src=\"https://colab.research.google.com/assets/colab-badge.svg\" alt=\"Open In Colab\"/></a>"
      ]
    },
    {
      "cell_type": "code",
      "execution_count": null,
      "metadata": {
        "id": "7Il5EKJnGQWe"
      },
      "outputs": [],
      "source": [
        "word = input(\"Enter a string: \")\n",
        "\n",
        "first_char = word[0]\n",
        "last_char = word[-1]\n",
        "\n",
        "special_chars = \"!@#$%^&*()-_=+[]{}|;:'\\\",.<>?/\\\\`~\"\n",
        "\n",
        "if ('A' <= first_char <= 'Z') or ('a' <= first_char <= 'z'):\n",
        "    first_is_alphabet = True\n",
        "else:\n",
        "    first_is_alphabet = False\n",
        "\n",
        "if first_is_alphabet and last_char in special_chars:\n",
        "    print(\" Valid string\")\n",
        "else:\n",
        "    print(\" Invalid string\")\n"
      ]
    },
    {
      "cell_type": "code",
      "source": [
        "#LOOP STATEMENTS\n",
        "# for loop=when we know the no of repetation\n",
        "# while loop"
      ],
      "metadata": {
        "id": "Ihtxd8TSJ_Jk"
      },
      "execution_count": null,
      "outputs": []
    },
    {
      "cell_type": "code",
      "source": [
        "# ##FOR LOOP\n",
        "# syntax\n",
        "#\n"
      ],
      "metadata": {
        "id": "w29JE9g6LIaK"
      },
      "execution_count": null,
      "outputs": []
    },
    {
      "cell_type": "code",
      "source": [
        "name= 'Akash'\n",
        "print(name[0])"
      ],
      "metadata": {
        "id": "NiOV1N7ILUPg"
      },
      "execution_count": null,
      "outputs": []
    },
    {
      "cell_type": "code",
      "source": [
        "lnames = ['Akash', 'Aman', 'Saurabh', 'Prince']\n",
        "for name in lnames:\n",
        "    print(name,name[0])"
      ],
      "metadata": {
        "id": "G7tbzzF_LeLk"
      },
      "execution_count": null,
      "outputs": []
    },
    {
      "cell_type": "code",
      "source": [
        "#name= input(\"Name: \")\n",
        "lnames = ['Akash', 'Aman', 'Saurabh', 'Prince']\n",
        "for name in lnames:\n",
        "  if name[0] in 'aeiouAEIOU':\n",
        "    print(name,'Yes')\n",
        "  else:\n",
        "    print(name,'No')\n",
        "\n",
        "\n"
      ],
      "metadata": {
        "id": "OCq6My4UMzBl"
      },
      "execution_count": null,
      "outputs": []
    },
    {
      "cell_type": "code",
      "source": [
        "#name= input(\"Name: \")\n",
        "lnames = ['Akash', 'Aman', 'Saurabh', 'Prince']\n",
        "for name in lnames:\n",
        "  if name[0] in 'aeiouAEIOU':\n",
        "    print(name)"
      ],
      "metadata": {
        "id": "6ECLHmekNxWa"
      },
      "execution_count": null,
      "outputs": []
    },
    {
      "cell_type": "code",
      "source": [
        "l=[758,82,9634,425,5,1205]\n",
        "for num in l:\n",
        "  num_div = str(num)\n",
        "  if len (num_div) >= 2:\n",
        "    second = int(num_div[1])\n",
        "    if second % 2 == 0:\n",
        "      print(num)"
      ],
      "metadata": {
        "id": "6no3gvQzPQoe"
      },
      "execution_count": null,
      "outputs": []
    },
    {
      "cell_type": "code",
      "source": [
        "l=[758,82,9634,425,5,1205]\n",
        "for num in l:\n",
        "  a= num//10\n",
        "  b= a % 10\n",
        "  if b % 2 == 0:\n",
        "   print(num)"
      ],
      "metadata": {
        "id": "HSX9Ut29QQBW"
      },
      "execution_count": null,
      "outputs": []
    },
    {
      "cell_type": "code",
      "source": [
        "l=[70,82,9634,425,5,1205]\n",
        "for num in l:\n",
        "  snum = str(num)\n",
        "  if len(snum) >= 1:\n",
        "    last2= snum[-2:]\n",
        "    ilast = int(last2 )\n",
        "    if ilast % 2 == 0:\n",
        "      print(num)\n"
      ],
      "metadata": {
        "id": "4TtZZHYTQ1bv"
      },
      "execution_count": null,
      "outputs": []
    },
    {
      "cell_type": "code",
      "source": [
        "#RANGE FUNCTION\n",
        "#IT generates a sequence of integers in a given rangw"
      ],
      "metadata": {
        "id": "D6n5MUeNStDe"
      },
      "execution_count": null,
      "outputs": []
    },
    {
      "cell_type": "code",
      "source": [
        "list(range(5))"
      ],
      "metadata": {
        "id": "mKoMsopjS5vo"
      },
      "execution_count": null,
      "outputs": []
    },
    {
      "cell_type": "code",
      "source": [
        "list(range(2,5))"
      ],
      "metadata": {
        "id": "Ozcp3k3SS-Vy"
      },
      "execution_count": null,
      "outputs": []
    },
    {
      "cell_type": "code",
      "source": [
        "list(range(5,25,2))"
      ],
      "metadata": {
        "id": "KVKL4yDOS-jO"
      },
      "execution_count": null,
      "outputs": []
    },
    {
      "cell_type": "code",
      "source": [
        "lnames = ['Akash', 'Aman', 'Saurabh', 'Prince']\n",
        "for i in range(len(lnames)):\n",
        "  name = lnames[i]\n",
        "  if name[0] in 'aeiouAEIOU':\n",
        "    print(name)\n",
        "\n",
        "'''DRY RUN\n",
        "len(lnames) =4\n",
        "range(4)=0,1,2,3\n",
        "i  name  name[]  ifCon  print\n",
        "0  akash    A     True   Akash\n",
        "1  amam     A     True   Aman\n",
        "2  saurabh  S     False\n",
        "3  prince   P     False '''\n"
      ],
      "metadata": {
        "id": "E9J5U58aUtQM"
      },
      "execution_count": null,
      "outputs": []
    },
    {
      "cell_type": "code",
      "source": [
        "#WAP to print the squares of  first n natural numbers\n",
        "\n",
        "n= int(input(\"Enter the value of n: \"))\n",
        "for i in range(1,n+1):\n",
        "    print(i**2)"
      ],
      "metadata": {
        "id": "_1W36BcEWtPp"
      },
      "execution_count": null,
      "outputs": []
    },
    {
      "cell_type": "code",
      "source": [
        "#WAP to print those lists in which the 2nd last element is a square of the first element\n",
        "l= [[3,9],[8,16],[4,16],[1,1]]\n",
        "for i in l:\n",
        "    if i[0]**2==i[1]:\n",
        "        print(i)\n",
        "#           OR\n",
        "\n",
        "for a,b in l:\n",
        "  if a**2==b:\n",
        "    print(a,b)"
      ],
      "metadata": {
        "id": "XWU_SKheX3Ax"
      },
      "execution_count": null,
      "outputs": []
    },
    {
      "cell_type": "code",
      "source": [
        "#WAP to print the count of numerical vales in the list\n",
        "l=[74,'hi', 'hello',45,23,12]\n",
        "count = 0\n",
        "for i in l:\n",
        "  if type(i) == int:\n",
        "    count += 1\n",
        "print(count)\n",
        "\n"
      ],
      "metadata": {
        "id": "6UfzUMAjZpPY"
      },
      "execution_count": null,
      "outputs": []
    },
    {
      "cell_type": "code",
      "source": [
        "#WAP to print those elements for which the index is either a multiple of 3 or 7\n",
        "l=[74,'hi', 'hello',45,23,12,71,85,24,'10']\n",
        "for i in range(len(l)):\n",
        "  if i % 3 == 0 or i % 7 == 0:\n",
        "    print(l[i])\n",
        "\n",
        "\n"
      ],
      "metadata": {
        "id": "3TWYawKr649I"
      },
      "execution_count": null,
      "outputs": []
    },
    {
      "cell_type": "code",
      "source": [
        "#WAP to check whether a number is a prime or not\n",
        "num= int(input(\"Enter a number: \"))\n",
        "for i in range(2,num):\n",
        "  if num % i ==0:\n",
        "    print(\"Not a prime no.\")\n",
        "    break\n",
        "else:\n",
        "    print(\"Prime no.\")"
      ],
      "metadata": {
        "id": "dAZsHJtT7duX"
      },
      "execution_count": null,
      "outputs": []
    },
    {
      "cell_type": "code",
      "source": [
        "#WAP to check whether a number is a prime or not\n",
        "num= int(input(\"Enter a number: \"))\n",
        "if num <= 1:\n",
        "  print(\"Not a prime no.\")\n",
        "elif num > 1:\n",
        "  prime=True\n",
        "  for i in range(2,num):\n",
        "    if num % i ==0:\n",
        "      prime=False\n",
        "      break\n",
        "\n",
        "  if prime==  True:\n",
        "    print(\"Prime no.\")\n",
        "  else:\n",
        "    print(\"Not a prime no.\")\n"
      ],
      "metadata": {
        "id": "bYK1lZKM-uuZ"
      },
      "execution_count": null,
      "outputs": []
    },
    {
      "cell_type": "code",
      "source": [
        "#         WHILE LOOP\n",
        "#syntax\n",
        "\n",
        "'''initialization\n",
        "while condition:\n",
        "  task 1\n",
        "  task\n",
        "  increment/decrement'''\n"
      ],
      "metadata": {
        "id": "2IY8J8T75ms6"
      },
      "execution_count": null,
      "outputs": []
    },
    {
      "cell_type": "code",
      "source": [
        "#WAP to print first n natural number\n",
        "n= int(input(\"Enter the value of n: \"))\n",
        "i=1\n",
        "while i<=n:\n",
        "  print(i)\n",
        "  i+=1"
      ],
      "metadata": {
        "id": "yChjX0iFEHtG"
      },
      "execution_count": null,
      "outputs": []
    },
    {
      "cell_type": "code",
      "source": [
        "s1 ='Shahrukh Khan'\n",
        "s2 = 'khan'\n",
        "s3='90'\n",
        "s4=s1+s3\n",
        "s4\n"
      ],
      "metadata": {
        "id": "rbBoc7yzVOn5"
      },
      "execution_count": null,
      "outputs": []
    },
    {
      "cell_type": "code",
      "source": [
        "'2' + '3'  #CONCATENATION\n"
      ],
      "metadata": {
        "id": "6H1ergkIVkAL"
      },
      "execution_count": null,
      "outputs": []
    },
    {
      "cell_type": "code",
      "source": [
        "##SLICING\n",
        "s='HOW ARE YOU??'\n",
        "f=s[:]\n",
        "f"
      ],
      "metadata": {
        "id": "uOn1FRGMWb-R"
      },
      "execution_count": null,
      "outputs": []
    },
    {
      "cell_type": "code",
      "source": [
        "##SLICING\n",
        "s='HOW ARE YOU??'\n",
        "f=s[::-1]\n",
        "f"
      ],
      "metadata": {
        "id": "AEUbgDIsXKBm"
      },
      "execution_count": null,
      "outputs": []
    },
    {
      "cell_type": "code",
      "source": [
        "#METHODS ON LIST\n",
        "l=[]  #EMPTY\n",
        "l.append('akashh')\n",
        "l.append('RISHI')\n",
        "print(l)"
      ],
      "metadata": {
        "id": "zXKVK8D3XQgq"
      },
      "execution_count": null,
      "outputs": []
    },
    {
      "cell_type": "code",
      "source": [
        "#WAP to add names to a list till the user enters stop\n",
        "l=[]\n",
        "inp=''\n",
        "while inp!='stop':\n",
        "    inp=input('Enter a name: ')\n",
        "    if inp!='stop':\n",
        "        l.append(inp)\n",
        "print(l)"
      ],
      "metadata": {
        "id": "1w6SZdVBXo9Q"
      },
      "execution_count": null,
      "outputs": []
    },
    {
      "cell_type": "code",
      "source": [
        "l=[74,'hi', 'hello',45,23,12]\n",
        "l.insert(2,'akash')\n",
        "l"
      ],
      "metadata": {
        "id": "vOZJGYd_YFy7"
      },
      "execution_count": null,
      "outputs": []
    },
    {
      "cell_type": "code",
      "source": [
        "l=[74,'hi', 'hello',45,23,12]\n",
        "l.remove(74)\n",
        "l"
      ],
      "metadata": {
        "id": "4VYu7YJIZvy3"
      },
      "execution_count": null,
      "outputs": []
    },
    {
      "cell_type": "code",
      "source": [
        "l=[74,'hi', 'hello',45,23,12]\n",
        "l.pop(1)\n",
        "l"
      ],
      "metadata": {
        "id": "MzrXW5pRZ6Am"
      },
      "execution_count": null,
      "outputs": []
    },
    {
      "cell_type": "code",
      "source": [
        "l=[74,'hi', 'hello',45,23,12]\n",
        "l.clear()\n",
        "l"
      ],
      "metadata": {
        "id": "zaLBXTuaais1"
      },
      "execution_count": null,
      "outputs": []
    },
    {
      "cell_type": "code",
      "source": [
        "l=[74,'hi', 'hello',45,23,12]\n",
        "l.reverse()\n",
        "l"
      ],
      "metadata": {
        "id": "icd_Bpm_aokD"
      },
      "execution_count": null,
      "outputs": []
    },
    {
      "cell_type": "code",
      "source": [
        "l=[7,45,23,12]\n",
        "l.sort()\n",
        "l"
      ],
      "metadata": {
        "id": "naRgnFMYatnK"
      },
      "execution_count": null,
      "outputs": []
    },
    {
      "cell_type": "code",
      "source": [
        "l=[7,45,23,12]\n",
        "l.sort(reverse=True)\n",
        "l"
      ],
      "metadata": {
        "id": "5Ph3Pvu0azk3"
      },
      "execution_count": null,
      "outputs": []
    }
  ]
}